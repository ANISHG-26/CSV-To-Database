{
  "nbformat": 4,
  "nbformat_minor": 0,
  "metadata": {
    "colab": {
      "provenance": [],
      "authorship_tag": "ABX9TyPBqMwwNmPIlMpYjhSE4s1/",
      "include_colab_link": true
    },
    "kernelspec": {
      "name": "python3",
      "display_name": "Python 3"
    },
    "language_info": {
      "name": "python"
    }
  },
  "cells": [
    {
      "cell_type": "markdown",
      "metadata": {
        "id": "view-in-github",
        "colab_type": "text"
      },
      "source": [
        "<a href=\"https://colab.research.google.com/github/ANISHG-26/CSV-To-Database/blob/main/GNG_5125_Assignment_1_Anish_George.ipynb\" target=\"_parent\"><img src=\"https://colab.research.google.com/assets/colab-badge.svg\" alt=\"Open In Colab\"/></a>"
      ]
    },
    {
      "cell_type": "markdown",
      "source": [
        "# **Problem Statement**\n",
        "\n",
        "Sometimes people repeat letters to represent extra feeling, such as \"hello\" -> \"heeellooo\", \"hi\" -> \"hiiii\". In these strings like \"heeellooo\", we have groups of adjacent letters that are all the same: \"h\", \"eee\", \"ll\", \"ooo\".\n",
        "\n",
        "For some given string S, a query word is stretchy if it can be made to be equal to S by any number of applications of the following extension operation: choose a group consisting of characters c, and add some number of characters c to the group so that the size of the group is 3 or more.\n",
        "\n",
        "For example, starting with \"hello\", we could do an extension on the group \"o\" to get \"hellooo\", but we cannot get \"helloo\" since the group \"oo\" has size less than 3. Also, we could do another extension like \"ll\" -> \"lllll\" to get \"helllllooo\". If S = \"helllllooo\", then the query word \"hello\" would be stretchy because of these two extension operations: query = \"hello\" -> \"hellooo\" -> \"helllllooo\" = S.\n",
        "\n",
        "Given a list of query words, return the number of words that are stretchy.\n",
        "\n",
        "**Example:**\n",
        "\n",
        "Input:\n",
        "\n",
        "S = \"heeellooo\"\n",
        "\n",
        "words = [\"hello\", \"hi\", \"helo\"]\n",
        "\n",
        "Output: 1\n",
        "\n",
        "Explanation:\n",
        "\n",
        "We can extend \"e\" and \"o\" in the word \"hello\" to get \"heeellooo\".\n",
        "We can't extend \"helo\" to get \"heeellooo\" because the group \"ll\" is not size 3 or more.\n",
        "\n",
        "**Constraints:**\n",
        "\n",
        "0 <= len(S) <= 100.\n",
        "\n",
        "0 <= len(words) <= 100.\n",
        "\n",
        "0 <= len(words[i]) <= 100.\n",
        "\n",
        "S and all words in words consist only of lowercase letters"
      ],
      "metadata": {
        "id": "3pFQk2AQc1xY"
      }
    },
    {
      "cell_type": "code",
      "execution_count": 94,
      "metadata": {
        "colab": {
          "base_uri": "https://localhost:8080/"
        },
        "id": "Ox-PiqIKcfTJ",
        "outputId": "7b2d74de-bd29-4585-e917-58967145adb3"
      },
      "outputs": [
        {
          "output_type": "stream",
          "name": "stdout",
          "text": [
            "Enter Input String:\n",
            "heeellooo\n",
            "Enter list of words (separated by spaces):\n",
            "hello hi helo\n",
            "['hello', 'hi', 'helo']\n",
            "2\n"
          ]
        }
      ],
      "source": [
        "import re\n",
        "\n",
        "def get_regex_pattern(S):\n",
        "  letters = [S[i] for i in range(len(S)-1) if S[i] != S[i+1]] + [S[-1]]\n",
        "  pattern = r\"\"\n",
        "  for letter in letters:\n",
        "     # Create a regex pattern that matches the word repeated one or more times\n",
        "      pattern = pattern + \"[\" + letter + \"]{1,2}\"\n",
        "  return pattern\n",
        "\n",
        "def count_stretchy_words(S, words):\n",
        "    count = 0\n",
        "    pattern = get_regex_pattern(S)\n",
        "    print(words)\n",
        "\n",
        "    for word in words:\n",
        "      if re.match(pattern, word):\n",
        "          count += 1\n",
        "    return count\n",
        "\n",
        "input_string = input(\"Enter Input String:\\n\").strip()\n",
        "input_words = input(\"Enter list of words (separated by spaces):\\n\")\n",
        "words = [word.strip() for word in input_words.split(\" \")]\n",
        "print(count_stretchy_words(input_string,words))\n"
      ]
    },
    {
      "cell_type": "code",
      "source": [
        "string = \"aaabbbcccdddeeefffaaaaa\"\n",
        "reduced_string = [string[i] for i in range(len(string)-1) if string[i] != string[i+1]] + [string[-1]]\n",
        "print(reduced_string)"
      ],
      "metadata": {
        "colab": {
          "base_uri": "https://localhost:8080/"
        },
        "id": "Lp-3cKLQI9G0",
        "outputId": "31420b56-5ce3-4d50-b205-e1dd2bc92b86"
      },
      "execution_count": 81,
      "outputs": [
        {
          "output_type": "stream",
          "name": "stdout",
          "text": [
            "['a', 'b', 'c', 'd', 'e', 'f', 'a']\n"
          ]
        }
      ]
    },
    {
      "cell_type": "code",
      "source": [
        "import re\n",
        "string = \"haaappy\"\n",
        "regex = r'([a-z])\\1'\n",
        "letters = []\n",
        "double_letters = re.search(regex, string)\n",
        "letters.append(double_letters.group())\n",
        "print(double_letters.start())\n",
        "print(letters)"
      ],
      "metadata": {
        "colab": {
          "base_uri": "https://localhost:8080/"
        },
        "id": "M6jibeMyVSs-",
        "outputId": "3af8b19e-ed83-4245-ed4e-157d12dd5941"
      },
      "execution_count": 71,
      "outputs": [
        {
          "output_type": "stream",
          "name": "stdout",
          "text": [
            "1\n",
            "['aa']\n"
          ]
        }
      ]
    },
    {
      "cell_type": "code",
      "source": [
        "import re\n",
        "S='heeellllooo'\n",
        "dictionary=['hello','hi','helo']\n",
        "if len(S)<100 and len(dictionary)<100:  \n",
        "  reg = ['']\n",
        "  reg1 = ['']\n",
        "  extra_char=' '\n",
        "  S=S+extra_char\n",
        "  prev_c = None\n",
        "  cnt = 0\n",
        "  output=0\n",
        "  p=re.search('\\w*\\s',S).group()\n",
        "  print(p)\n",
        "  for c in p:\n",
        "      #print (c,prev_c)\n",
        "      #if c == prev_c and cnt<3:\n",
        "      if c == prev_c:\n",
        "         cnt += 1\n",
        "      else:\n",
        "        if prev_c is not None:\n",
        "            if cnt >= 3:\n",
        "               reg.extend([prev_c])\n",
        "               if cnt>3:\n",
        "                  reg1.extend([prev_c]*2)\n",
        "               else:\n",
        "                  reg1.extend([prev_c]) \n",
        "               cnt=1\n",
        "            else:\n",
        "               reg.extend([prev_c] * cnt)\n",
        "               reg1.extend([prev_c] * cnt)\n",
        "        prev_c = c\n",
        "        cnt = 1\n",
        "  reg = ''.join(reg)\n",
        "  reg1= ''.join(reg1)\n",
        "  for i in dictionary:\n",
        "    if i==reg:\n",
        "      output+=1\n",
        "    if i==reg1 and reg!=reg1:\n",
        "      output+=1\n",
        "  #print (reg)\n",
        "  #print (reg1)\n",
        "  #print ('Output:{}'.format(output))"
      ],
      "metadata": {
        "colab": {
          "base_uri": "https://localhost:8080/"
        },
        "id": "OhD8PLHJxvQ9",
        "outputId": "072d9370-6cec-4785-b2f0-3cf96e072654"
      },
      "execution_count": 109,
      "outputs": [
        {
          "output_type": "stream",
          "name": "stdout",
          "text": [
            "heeellllooo \n"
          ]
        }
      ]
    },
    {
      "cell_type": "code",
      "source": [
        "\n",
        "string = \"hhhaappyyaaappp\"\n",
        "\n",
        "# Initialize an empty list to store the tuples\n",
        "letter_count = []\n",
        "\n",
        "# Iterate through the string\n",
        "i = 0\n",
        "while i < len(string):\n",
        "    current_char = string[i]\n",
        "    count = 1\n",
        "\n",
        "    # Check for consecutive characters\n",
        "    j = i + 1\n",
        "    while j < len(string) and string[j] == current_char:\n",
        "        count += 1\n",
        "        j += 1\n",
        "\n",
        "    # Add a tuple with the current character and count to the list\n",
        "    letter_count.append((current_char, count))\n",
        "    i = j\n",
        "\n",
        "print(letter_count)\n",
        "  \n",
        "\n"
      ],
      "metadata": {
        "colab": {
          "base_uri": "https://localhost:8080/"
        },
        "id": "69GzCCr25ljL",
        "outputId": "ab555d6a-16c2-427d-b26c-8e592356a802"
      },
      "execution_count": 121,
      "outputs": [
        {
          "output_type": "stream",
          "name": "stdout",
          "text": [
            "[('h', 3), ('a', 2), ('p', 2), ('y', 2), ('a', 3), ('p', 3)]\n"
          ]
        }
      ]
    }
  ]
}