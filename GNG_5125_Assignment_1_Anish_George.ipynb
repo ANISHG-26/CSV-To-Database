{
  "nbformat": 4,
  "nbformat_minor": 0,
  "metadata": {
    "colab": {
      "provenance": [],
      "authorship_tag": "ABX9TyPajAy6ckNJdEA/zhbCkqAs",
      "include_colab_link": true
    },
    "kernelspec": {
      "name": "python3",
      "display_name": "Python 3"
    },
    "language_info": {
      "name": "python"
    }
  },
  "cells": [
    {
      "cell_type": "markdown",
      "metadata": {
        "id": "view-in-github",
        "colab_type": "text"
      },
      "source": [
        "<a href=\"https://colab.research.google.com/github/ANISHG-26/CSV-To-Database/blob/main/GNG_5125_Assignment_1_Anish_George.ipynb\" target=\"_parent\"><img src=\"https://colab.research.google.com/assets/colab-badge.svg\" alt=\"Open In Colab\"/></a>"
      ]
    },
    {
      "cell_type": "markdown",
      "source": [
        "# **Problem Statement**\n",
        "\n",
        "Sometimes people repeat letters to represent extra feeling, such as \"hello\" -> \"heeellooo\", \"hi\" -> \"hiiii\". In these strings like \"heeellooo\", we have groups of adjacent letters that are all the same: \"h\", \"eee\", \"ll\", \"ooo\".\n",
        "\n",
        "For some given string S, a query word is stretchy if it can be made to be equal to S by any number of applications of the following extension operation: choose a group consisting of characters c, and add some number of characters c to the group so that the size of the group is 3 or more.\n",
        "\n",
        "For example, starting with \"hello\", we could do an extension on the group \"o\" to get \"hellooo\", but we cannot get \"helloo\" since the group \"oo\" has size less than 3. Also, we could do another extension like \"ll\" -> \"lllll\" to get \"helllllooo\". If S = \"helllllooo\", then the query word \"hello\" would be stretchy because of these two extension operations: query = \"hello\" -> \"hellooo\" -> \"helllllooo\" = S.\n",
        "\n",
        "Given a list of query words, return the number of words that are stretchy.\n",
        "\n",
        "**Example:**\n",
        "\n",
        "Input:\n",
        "\n",
        "S = \"heeellooo\"\n",
        "\n",
        "words = [\"hello\", \"hi\", \"helo\"]\n",
        "\n",
        "Output: 1\n",
        "\n",
        "Explanation:\n",
        "\n",
        "We can extend \"e\" and \"o\" in the word \"hello\" to get \"heeellooo\".\n",
        "We can't extend \"helo\" to get \"heeellooo\" because the group \"ll\" is not size 3 or more.\n",
        "\n",
        "**Constraints:**\n",
        "\n",
        "0 <= len(S) <= 100.\n",
        "\n",
        "0 <= len(words) <= 100.\n",
        "\n",
        "0 <= len(words[i]) <= 100.\n",
        "\n",
        "S and all words in words consist only of lowercase letters"
      ],
      "metadata": {
        "id": "3pFQk2AQc1xY"
      }
    },
    {
      "cell_type": "code",
      "execution_count": 134,
      "metadata": {
        "colab": {
          "base_uri": "https://localhost:8080/"
        },
        "id": "Ox-PiqIKcfTJ",
        "outputId": "3832ae4e-a12a-4326-e2b1-c40401e0a456"
      },
      "outputs": [
        {
          "output_type": "stream",
          "name": "stdout",
          "text": [
            "Enter Input String:\n",
            "hellooo\n",
            "Enter list of words (separated by spaces):\n",
            "helo hello hi\n",
            "1\n"
          ]
        }
      ],
      "source": [
        "import re\n",
        "\n",
        "def string_to_data(string):\n",
        "  # Initialize an empty list to store the tuples\n",
        "  data = []\n",
        "\n",
        "  # Iterate through the string\n",
        "  i = 0\n",
        "  while i < len(string):\n",
        "      current_char = string[i]\n",
        "      count = 1\n",
        "\n",
        "      # Check for consecutive characters\n",
        "      j = i + 1\n",
        "      while j < len(string) and string[j] == current_char:\n",
        "          count += 1\n",
        "          j += 1\n",
        "\n",
        "      # Add a tuple with the current character and count to the list\n",
        "      data.append((current_char, count))\n",
        "      i = j\n",
        "  return data\n",
        "\n",
        "def count_stretchy_words(S, words):\n",
        "  \n",
        "  # Initialise Variables\n",
        "  count = 0\n",
        "  pattern = \"\"\n",
        "\n",
        "  # Call function to count letters in input string\n",
        "  data = string_to_data(S)\n",
        "   \n",
        "  # Generate Regex pattern as per criteria\n",
        "  for element in data:\n",
        "    letter = element[0]\n",
        "    frequency = element[1]\n",
        "    if frequency < 3:\n",
        "      if frequency == 2:\n",
        "        pattern = pattern + letter + letter\n",
        "      else:\n",
        "        pattern = pattern + letter\n",
        "    else:\n",
        "      pattern = pattern + \"[\" + letter + \"]+\" \n",
        "   \n",
        "  #print(\"Regex Pattern: \"+pattern)\n",
        "  \n",
        "  # Count number of words in list that match regex pattern\n",
        "  for word in words:\n",
        "    if re.match(pattern, word):\n",
        "      count += 1\n",
        "        \n",
        "  return count\n",
        "\n",
        "# Input the string\n",
        "input_string = input(\"Enter Input String:\\n\").strip()\n",
        "\n",
        "# Input the list of words\n",
        "\n",
        "input_words = input(\"Enter list of words (separated by spaces):\\n\")\n",
        "\n",
        "# Convert string into list of words\n",
        "words = [word.strip() for word in input_words.split(\" \")]\n",
        "\n",
        "# Print result of function call to count stretchy words\n",
        "print(count_stretchy_words(input_string,words))\n"
      ]
    }
  ]
}